{
 "metadata": {
  "name": ""
 },
 "nbformat": 3,
 "nbformat_minor": 0,
 "worksheets": [
  {
   "cells": [
    {
     "cell_type": "heading",
     "level": 1,
     "metadata": {},
     "source": [
      "Introducci\u00f3n a NumPy"
     ]
    },
    {
     "cell_type": "code",
     "collapsed": false,
     "input": [
      "from IPython.display import IFrame\n",
      "IFrame('http://mathesaurus.sourceforge.net/', width=1000, height=350)"
     ],
     "language": "python",
     "metadata": {},
     "outputs": [
      {
       "html": [
        "\n",
        "        <iframe\n",
        "            width=\"1000\"\n",
        "            height=350\"\n",
        "            src=\"http://mathesaurus.sourceforge.net/\"\n",
        "            frameborder=\"0\"\n",
        "            allowfullscreen\n",
        "        ></iframe>\n",
        "        "
       ],
       "metadata": {},
       "output_type": "pyout",
       "prompt_number": 84,
       "text": [
        "<IPython.lib.display.IFrame at 0x41902d0>"
       ]
      }
     ],
     "prompt_number": 84
    },
    {
     "cell_type": "code",
     "collapsed": false,
     "input": [
      "import numpy as np\n"
     ],
     "language": "python",
     "metadata": {},
     "outputs": [],
     "prompt_number": 85
    },
    {
     "cell_type": "heading",
     "level": 4,
     "metadata": {},
     "source": [
      "Distintas formas de crear un Array"
     ]
    },
    {
     "cell_type": "code",
     "collapsed": false,
     "input": [
      "mi_primer_array = np.arange(0., 1000.)\n",
      "mi_primer_array"
     ],
     "language": "python",
     "metadata": {},
     "outputs": [
      {
       "metadata": {},
       "output_type": "pyout",
       "prompt_number": 86,
       "text": [
        "array([   0.,    1.,    2.,    3.,    4.,    5.,    6.,    7.,    8.,\n",
        "          9.,   10.,   11.,   12.,   13.,   14.,   15.,   16.,   17.,\n",
        "         18.,   19.,   20.,   21.,   22.,   23.,   24.,   25.,   26.,\n",
        "         27.,   28.,   29.,   30.,   31.,   32.,   33.,   34.,   35.,\n",
        "         36.,   37.,   38.,   39.,   40.,   41.,   42.,   43.,   44.,\n",
        "         45.,   46.,   47.,   48.,   49.,   50.,   51.,   52.,   53.,\n",
        "         54.,   55.,   56.,   57.,   58.,   59.,   60.,   61.,   62.,\n",
        "         63.,   64.,   65.,   66.,   67.,   68.,   69.,   70.,   71.,\n",
        "         72.,   73.,   74.,   75.,   76.,   77.,   78.,   79.,   80.,\n",
        "         81.,   82.,   83.,   84.,   85.,   86.,   87.,   88.,   89.,\n",
        "         90.,   91.,   92.,   93.,   94.,   95.,   96.,   97.,   98.,\n",
        "         99.,  100.,  101.,  102.,  103.,  104.,  105.,  106.,  107.,\n",
        "        108.,  109.,  110.,  111.,  112.,  113.,  114.,  115.,  116.,\n",
        "        117.,  118.,  119.,  120.,  121.,  122.,  123.,  124.,  125.,\n",
        "        126.,  127.,  128.,  129.,  130.,  131.,  132.,  133.,  134.,\n",
        "        135.,  136.,  137.,  138.,  139.,  140.,  141.,  142.,  143.,\n",
        "        144.,  145.,  146.,  147.,  148.,  149.,  150.,  151.,  152.,\n",
        "        153.,  154.,  155.,  156.,  157.,  158.,  159.,  160.,  161.,\n",
        "        162.,  163.,  164.,  165.,  166.,  167.,  168.,  169.,  170.,\n",
        "        171.,  172.,  173.,  174.,  175.,  176.,  177.,  178.,  179.,\n",
        "        180.,  181.,  182.,  183.,  184.,  185.,  186.,  187.,  188.,\n",
        "        189.,  190.,  191.,  192.,  193.,  194.,  195.,  196.,  197.,\n",
        "        198.,  199.,  200.,  201.,  202.,  203.,  204.,  205.,  206.,\n",
        "        207.,  208.,  209.,  210.,  211.,  212.,  213.,  214.,  215.,\n",
        "        216.,  217.,  218.,  219.,  220.,  221.,  222.,  223.,  224.,\n",
        "        225.,  226.,  227.,  228.,  229.,  230.,  231.,  232.,  233.,\n",
        "        234.,  235.,  236.,  237.,  238.,  239.,  240.,  241.,  242.,\n",
        "        243.,  244.,  245.,  246.,  247.,  248.,  249.,  250.,  251.,\n",
        "        252.,  253.,  254.,  255.,  256.,  257.,  258.,  259.,  260.,\n",
        "        261.,  262.,  263.,  264.,  265.,  266.,  267.,  268.,  269.,\n",
        "        270.,  271.,  272.,  273.,  274.,  275.,  276.,  277.,  278.,\n",
        "        279.,  280.,  281.,  282.,  283.,  284.,  285.,  286.,  287.,\n",
        "        288.,  289.,  290.,  291.,  292.,  293.,  294.,  295.,  296.,\n",
        "        297.,  298.,  299.,  300.,  301.,  302.,  303.,  304.,  305.,\n",
        "        306.,  307.,  308.,  309.,  310.,  311.,  312.,  313.,  314.,\n",
        "        315.,  316.,  317.,  318.,  319.,  320.,  321.,  322.,  323.,\n",
        "        324.,  325.,  326.,  327.,  328.,  329.,  330.,  331.,  332.,\n",
        "        333.,  334.,  335.,  336.,  337.,  338.,  339.,  340.,  341.,\n",
        "        342.,  343.,  344.,  345.,  346.,  347.,  348.,  349.,  350.,\n",
        "        351.,  352.,  353.,  354.,  355.,  356.,  357.,  358.,  359.,\n",
        "        360.,  361.,  362.,  363.,  364.,  365.,  366.,  367.,  368.,\n",
        "        369.,  370.,  371.,  372.,  373.,  374.,  375.,  376.,  377.,\n",
        "        378.,  379.,  380.,  381.,  382.,  383.,  384.,  385.,  386.,\n",
        "        387.,  388.,  389.,  390.,  391.,  392.,  393.,  394.,  395.,\n",
        "        396.,  397.,  398.,  399.,  400.,  401.,  402.,  403.,  404.,\n",
        "        405.,  406.,  407.,  408.,  409.,  410.,  411.,  412.,  413.,\n",
        "        414.,  415.,  416.,  417.,  418.,  419.,  420.,  421.,  422.,\n",
        "        423.,  424.,  425.,  426.,  427.,  428.,  429.,  430.,  431.,\n",
        "        432.,  433.,  434.,  435.,  436.,  437.,  438.,  439.,  440.,\n",
        "        441.,  442.,  443.,  444.,  445.,  446.,  447.,  448.,  449.,\n",
        "        450.,  451.,  452.,  453.,  454.,  455.,  456.,  457.,  458.,\n",
        "        459.,  460.,  461.,  462.,  463.,  464.,  465.,  466.,  467.,\n",
        "        468.,  469.,  470.,  471.,  472.,  473.,  474.,  475.,  476.,\n",
        "        477.,  478.,  479.,  480.,  481.,  482.,  483.,  484.,  485.,\n",
        "        486.,  487.,  488.,  489.,  490.,  491.,  492.,  493.,  494.,\n",
        "        495.,  496.,  497.,  498.,  499.,  500.,  501.,  502.,  503.,\n",
        "        504.,  505.,  506.,  507.,  508.,  509.,  510.,  511.,  512.,\n",
        "        513.,  514.,  515.,  516.,  517.,  518.,  519.,  520.,  521.,\n",
        "        522.,  523.,  524.,  525.,  526.,  527.,  528.,  529.,  530.,\n",
        "        531.,  532.,  533.,  534.,  535.,  536.,  537.,  538.,  539.,\n",
        "        540.,  541.,  542.,  543.,  544.,  545.,  546.,  547.,  548.,\n",
        "        549.,  550.,  551.,  552.,  553.,  554.,  555.,  556.,  557.,\n",
        "        558.,  559.,  560.,  561.,  562.,  563.,  564.,  565.,  566.,\n",
        "        567.,  568.,  569.,  570.,  571.,  572.,  573.,  574.,  575.,\n",
        "        576.,  577.,  578.,  579.,  580.,  581.,  582.,  583.,  584.,\n",
        "        585.,  586.,  587.,  588.,  589.,  590.,  591.,  592.,  593.,\n",
        "        594.,  595.,  596.,  597.,  598.,  599.,  600.,  601.,  602.,\n",
        "        603.,  604.,  605.,  606.,  607.,  608.,  609.,  610.,  611.,\n",
        "        612.,  613.,  614.,  615.,  616.,  617.,  618.,  619.,  620.,\n",
        "        621.,  622.,  623.,  624.,  625.,  626.,  627.,  628.,  629.,\n",
        "        630.,  631.,  632.,  633.,  634.,  635.,  636.,  637.,  638.,\n",
        "        639.,  640.,  641.,  642.,  643.,  644.,  645.,  646.,  647.,\n",
        "        648.,  649.,  650.,  651.,  652.,  653.,  654.,  655.,  656.,\n",
        "        657.,  658.,  659.,  660.,  661.,  662.,  663.,  664.,  665.,\n",
        "        666.,  667.,  668.,  669.,  670.,  671.,  672.,  673.,  674.,\n",
        "        675.,  676.,  677.,  678.,  679.,  680.,  681.,  682.,  683.,\n",
        "        684.,  685.,  686.,  687.,  688.,  689.,  690.,  691.,  692.,\n",
        "        693.,  694.,  695.,  696.,  697.,  698.,  699.,  700.,  701.,\n",
        "        702.,  703.,  704.,  705.,  706.,  707.,  708.,  709.,  710.,\n",
        "        711.,  712.,  713.,  714.,  715.,  716.,  717.,  718.,  719.,\n",
        "        720.,  721.,  722.,  723.,  724.,  725.,  726.,  727.,  728.,\n",
        "        729.,  730.,  731.,  732.,  733.,  734.,  735.,  736.,  737.,\n",
        "        738.,  739.,  740.,  741.,  742.,  743.,  744.,  745.,  746.,\n",
        "        747.,  748.,  749.,  750.,  751.,  752.,  753.,  754.,  755.,\n",
        "        756.,  757.,  758.,  759.,  760.,  761.,  762.,  763.,  764.,\n",
        "        765.,  766.,  767.,  768.,  769.,  770.,  771.,  772.,  773.,\n",
        "        774.,  775.,  776.,  777.,  778.,  779.,  780.,  781.,  782.,\n",
        "        783.,  784.,  785.,  786.,  787.,  788.,  789.,  790.,  791.,\n",
        "        792.,  793.,  794.,  795.,  796.,  797.,  798.,  799.,  800.,\n",
        "        801.,  802.,  803.,  804.,  805.,  806.,  807.,  808.,  809.,\n",
        "        810.,  811.,  812.,  813.,  814.,  815.,  816.,  817.,  818.,\n",
        "        819.,  820.,  821.,  822.,  823.,  824.,  825.,  826.,  827.,\n",
        "        828.,  829.,  830.,  831.,  832.,  833.,  834.,  835.,  836.,\n",
        "        837.,  838.,  839.,  840.,  841.,  842.,  843.,  844.,  845.,\n",
        "        846.,  847.,  848.,  849.,  850.,  851.,  852.,  853.,  854.,\n",
        "        855.,  856.,  857.,  858.,  859.,  860.,  861.,  862.,  863.,\n",
        "        864.,  865.,  866.,  867.,  868.,  869.,  870.,  871.,  872.,\n",
        "        873.,  874.,  875.,  876.,  877.,  878.,  879.,  880.,  881.,\n",
        "        882.,  883.,  884.,  885.,  886.,  887.,  888.,  889.,  890.,\n",
        "        891.,  892.,  893.,  894.,  895.,  896.,  897.,  898.,  899.,\n",
        "        900.,  901.,  902.,  903.,  904.,  905.,  906.,  907.,  908.,\n",
        "        909.,  910.,  911.,  912.,  913.,  914.,  915.,  916.,  917.,\n",
        "        918.,  919.,  920.,  921.,  922.,  923.,  924.,  925.,  926.,\n",
        "        927.,  928.,  929.,  930.,  931.,  932.,  933.,  934.,  935.,\n",
        "        936.,  937.,  938.,  939.,  940.,  941.,  942.,  943.,  944.,\n",
        "        945.,  946.,  947.,  948.,  949.,  950.,  951.,  952.,  953.,\n",
        "        954.,  955.,  956.,  957.,  958.,  959.,  960.,  961.,  962.,\n",
        "        963.,  964.,  965.,  966.,  967.,  968.,  969.,  970.,  971.,\n",
        "        972.,  973.,  974.,  975.,  976.,  977.,  978.,  979.,  980.,\n",
        "        981.,  982.,  983.,  984.,  985.,  986.,  987.,  988.,  989.,\n",
        "        990.,  991.,  992.,  993.,  994.,  995.,  996.,  997.,  998.,  999.])"
       ]
      }
     ],
     "prompt_number": 86
    },
    {
     "cell_type": "code",
     "collapsed": false,
     "input": [
      "from IPython.display import IFrame\n",
      "IFrame('http://docs.scipy.org/doc/numpy/user/basics.types.html', width=1000, height=350)"
     ],
     "language": "python",
     "metadata": {},
     "outputs": [
      {
       "html": [
        "\n",
        "        <iframe\n",
        "            width=\"1000\"\n",
        "            height=350\"\n",
        "            src=\"http://docs.scipy.org/doc/numpy/user/basics.types.html\"\n",
        "            frameborder=\"0\"\n",
        "            allowfullscreen\n",
        "        ></iframe>\n",
        "        "
       ],
       "metadata": {},
       "output_type": "pyout",
       "prompt_number": 87,
       "text": [
        "<IPython.lib.display.IFrame at 0x3cc6e90>"
       ]
      }
     ],
     "prompt_number": 87
    },
    {
     "cell_type": "code",
     "collapsed": false,
     "input": [
      "print np.array([128], dtype=np.int8)\n",
      "print np.array([128], dtype=np.int32)"
     ],
     "language": "python",
     "metadata": {},
     "outputs": [
      {
       "output_type": "stream",
       "stream": "stdout",
       "text": [
        "[-128]\n",
        "[128]\n"
       ]
      }
     ],
     "prompt_number": 88
    },
    {
     "cell_type": "code",
     "collapsed": false,
     "input": [
      "random_array = np.array(np.random.random((4, 3)), dtype=np.float16)\n",
      "print random_array\n",
      "print random_array.dtype"
     ],
     "language": "python",
     "metadata": {},
     "outputs": [
      {
       "output_type": "stream",
       "stream": "stdout",
       "text": [
        "[[ 0.96191406  0.24768066  0.58789062]\n",
        " [ 0.14453125  0.1730957   0.90625   ]\n",
        " [ 0.26855469  0.45410156  0.28808594]\n",
        " [ 0.46606445  0.71582031  0.61914062]]\n",
        "float16\n"
       ]
      }
     ],
     "prompt_number": 89
    },
    {
     "cell_type": "code",
     "collapsed": false,
     "input": [
      "random_array = np.array(np.random.random((4, 3)), dtype=np.float64)\n",
      "print random_array\n",
      "print random_array.dtype"
     ],
     "language": "python",
     "metadata": {},
     "outputs": [
      {
       "output_type": "stream",
       "stream": "stdout",
       "text": [
        "[[ 0.82186592  0.00544042  0.05860342]\n",
        " [ 0.67988432  0.38732592  0.24836081]\n",
        " [ 0.15083314  0.78746516  0.42765615]\n",
        " [ 0.95178565  0.59673773  0.93251976]]\n",
        "float64\n"
       ]
      }
     ],
     "prompt_number": 90
    },
    {
     "cell_type": "code",
     "collapsed": false,
     "input": [
      "random_array = np.array(np.random.random((4, 3)), dtype=np.int8)\n",
      "print random_array\n",
      "print random_array.dtype"
     ],
     "language": "python",
     "metadata": {},
     "outputs": [
      {
       "output_type": "stream",
       "stream": "stdout",
       "text": [
        "[[0 0 0]\n",
        " [0 0 0]\n",
        " [0 0 0]\n",
        " [0 0 0]]\n",
        "int8\n"
       ]
      }
     ],
     "prompt_number": 91
    },
    {
     "cell_type": "code",
     "collapsed": false,
     "input": [
      "mi_primer_array = np.arange(0, 1000)\n",
      "mi_primer_array"
     ],
     "language": "python",
     "metadata": {},
     "outputs": [
      {
       "metadata": {},
       "output_type": "pyout",
       "prompt_number": 92,
       "text": [
        "array([  0,   1,   2,   3,   4,   5,   6,   7,   8,   9,  10,  11,  12,\n",
        "        13,  14,  15,  16,  17,  18,  19,  20,  21,  22,  23,  24,  25,\n",
        "        26,  27,  28,  29,  30,  31,  32,  33,  34,  35,  36,  37,  38,\n",
        "        39,  40,  41,  42,  43,  44,  45,  46,  47,  48,  49,  50,  51,\n",
        "        52,  53,  54,  55,  56,  57,  58,  59,  60,  61,  62,  63,  64,\n",
        "        65,  66,  67,  68,  69,  70,  71,  72,  73,  74,  75,  76,  77,\n",
        "        78,  79,  80,  81,  82,  83,  84,  85,  86,  87,  88,  89,  90,\n",
        "        91,  92,  93,  94,  95,  96,  97,  98,  99, 100, 101, 102, 103,\n",
        "       104, 105, 106, 107, 108, 109, 110, 111, 112, 113, 114, 115, 116,\n",
        "       117, 118, 119, 120, 121, 122, 123, 124, 125, 126, 127, 128, 129,\n",
        "       130, 131, 132, 133, 134, 135, 136, 137, 138, 139, 140, 141, 142,\n",
        "       143, 144, 145, 146, 147, 148, 149, 150, 151, 152, 153, 154, 155,\n",
        "       156, 157, 158, 159, 160, 161, 162, 163, 164, 165, 166, 167, 168,\n",
        "       169, 170, 171, 172, 173, 174, 175, 176, 177, 178, 179, 180, 181,\n",
        "       182, 183, 184, 185, 186, 187, 188, 189, 190, 191, 192, 193, 194,\n",
        "       195, 196, 197, 198, 199, 200, 201, 202, 203, 204, 205, 206, 207,\n",
        "       208, 209, 210, 211, 212, 213, 214, 215, 216, 217, 218, 219, 220,\n",
        "       221, 222, 223, 224, 225, 226, 227, 228, 229, 230, 231, 232, 233,\n",
        "       234, 235, 236, 237, 238, 239, 240, 241, 242, 243, 244, 245, 246,\n",
        "       247, 248, 249, 250, 251, 252, 253, 254, 255, 256, 257, 258, 259,\n",
        "       260, 261, 262, 263, 264, 265, 266, 267, 268, 269, 270, 271, 272,\n",
        "       273, 274, 275, 276, 277, 278, 279, 280, 281, 282, 283, 284, 285,\n",
        "       286, 287, 288, 289, 290, 291, 292, 293, 294, 295, 296, 297, 298,\n",
        "       299, 300, 301, 302, 303, 304, 305, 306, 307, 308, 309, 310, 311,\n",
        "       312, 313, 314, 315, 316, 317, 318, 319, 320, 321, 322, 323, 324,\n",
        "       325, 326, 327, 328, 329, 330, 331, 332, 333, 334, 335, 336, 337,\n",
        "       338, 339, 340, 341, 342, 343, 344, 345, 346, 347, 348, 349, 350,\n",
        "       351, 352, 353, 354, 355, 356, 357, 358, 359, 360, 361, 362, 363,\n",
        "       364, 365, 366, 367, 368, 369, 370, 371, 372, 373, 374, 375, 376,\n",
        "       377, 378, 379, 380, 381, 382, 383, 384, 385, 386, 387, 388, 389,\n",
        "       390, 391, 392, 393, 394, 395, 396, 397, 398, 399, 400, 401, 402,\n",
        "       403, 404, 405, 406, 407, 408, 409, 410, 411, 412, 413, 414, 415,\n",
        "       416, 417, 418, 419, 420, 421, 422, 423, 424, 425, 426, 427, 428,\n",
        "       429, 430, 431, 432, 433, 434, 435, 436, 437, 438, 439, 440, 441,\n",
        "       442, 443, 444, 445, 446, 447, 448, 449, 450, 451, 452, 453, 454,\n",
        "       455, 456, 457, 458, 459, 460, 461, 462, 463, 464, 465, 466, 467,\n",
        "       468, 469, 470, 471, 472, 473, 474, 475, 476, 477, 478, 479, 480,\n",
        "       481, 482, 483, 484, 485, 486, 487, 488, 489, 490, 491, 492, 493,\n",
        "       494, 495, 496, 497, 498, 499, 500, 501, 502, 503, 504, 505, 506,\n",
        "       507, 508, 509, 510, 511, 512, 513, 514, 515, 516, 517, 518, 519,\n",
        "       520, 521, 522, 523, 524, 525, 526, 527, 528, 529, 530, 531, 532,\n",
        "       533, 534, 535, 536, 537, 538, 539, 540, 541, 542, 543, 544, 545,\n",
        "       546, 547, 548, 549, 550, 551, 552, 553, 554, 555, 556, 557, 558,\n",
        "       559, 560, 561, 562, 563, 564, 565, 566, 567, 568, 569, 570, 571,\n",
        "       572, 573, 574, 575, 576, 577, 578, 579, 580, 581, 582, 583, 584,\n",
        "       585, 586, 587, 588, 589, 590, 591, 592, 593, 594, 595, 596, 597,\n",
        "       598, 599, 600, 601, 602, 603, 604, 605, 606, 607, 608, 609, 610,\n",
        "       611, 612, 613, 614, 615, 616, 617, 618, 619, 620, 621, 622, 623,\n",
        "       624, 625, 626, 627, 628, 629, 630, 631, 632, 633, 634, 635, 636,\n",
        "       637, 638, 639, 640, 641, 642, 643, 644, 645, 646, 647, 648, 649,\n",
        "       650, 651, 652, 653, 654, 655, 656, 657, 658, 659, 660, 661, 662,\n",
        "       663, 664, 665, 666, 667, 668, 669, 670, 671, 672, 673, 674, 675,\n",
        "       676, 677, 678, 679, 680, 681, 682, 683, 684, 685, 686, 687, 688,\n",
        "       689, 690, 691, 692, 693, 694, 695, 696, 697, 698, 699, 700, 701,\n",
        "       702, 703, 704, 705, 706, 707, 708, 709, 710, 711, 712, 713, 714,\n",
        "       715, 716, 717, 718, 719, 720, 721, 722, 723, 724, 725, 726, 727,\n",
        "       728, 729, 730, 731, 732, 733, 734, 735, 736, 737, 738, 739, 740,\n",
        "       741, 742, 743, 744, 745, 746, 747, 748, 749, 750, 751, 752, 753,\n",
        "       754, 755, 756, 757, 758, 759, 760, 761, 762, 763, 764, 765, 766,\n",
        "       767, 768, 769, 770, 771, 772, 773, 774, 775, 776, 777, 778, 779,\n",
        "       780, 781, 782, 783, 784, 785, 786, 787, 788, 789, 790, 791, 792,\n",
        "       793, 794, 795, 796, 797, 798, 799, 800, 801, 802, 803, 804, 805,\n",
        "       806, 807, 808, 809, 810, 811, 812, 813, 814, 815, 816, 817, 818,\n",
        "       819, 820, 821, 822, 823, 824, 825, 826, 827, 828, 829, 830, 831,\n",
        "       832, 833, 834, 835, 836, 837, 838, 839, 840, 841, 842, 843, 844,\n",
        "       845, 846, 847, 848, 849, 850, 851, 852, 853, 854, 855, 856, 857,\n",
        "       858, 859, 860, 861, 862, 863, 864, 865, 866, 867, 868, 869, 870,\n",
        "       871, 872, 873, 874, 875, 876, 877, 878, 879, 880, 881, 882, 883,\n",
        "       884, 885, 886, 887, 888, 889, 890, 891, 892, 893, 894, 895, 896,\n",
        "       897, 898, 899, 900, 901, 902, 903, 904, 905, 906, 907, 908, 909,\n",
        "       910, 911, 912, 913, 914, 915, 916, 917, 918, 919, 920, 921, 922,\n",
        "       923, 924, 925, 926, 927, 928, 929, 930, 931, 932, 933, 934, 935,\n",
        "       936, 937, 938, 939, 940, 941, 942, 943, 944, 945, 946, 947, 948,\n",
        "       949, 950, 951, 952, 953, 954, 955, 956, 957, 958, 959, 960, 961,\n",
        "       962, 963, 964, 965, 966, 967, 968, 969, 970, 971, 972, 973, 974,\n",
        "       975, 976, 977, 978, 979, 980, 981, 982, 983, 984, 985, 986, 987,\n",
        "       988, 989, 990, 991, 992, 993, 994, 995, 996, 997, 998, 999])"
       ]
      }
     ],
     "prompt_number": 92
    },
    {
     "cell_type": "code",
     "collapsed": false,
     "input": [
      "mi_otro_array = np.array([1, 2, 3, 4, 5, 6, 7])\n",
      "mi_otro_array"
     ],
     "language": "python",
     "metadata": {},
     "outputs": [
      {
       "metadata": {},
       "output_type": "pyout",
       "prompt_number": 93,
       "text": [
        "array([1, 2, 3, 4, 5, 6, 7])"
       ]
      }
     ],
     "prompt_number": 93
    },
    {
     "cell_type": "markdown",
     "metadata": {},
     "source": [
      "#### Por qu\u00e9 usar numpy array sobre listas de python?"
     ]
    },
    {
     "cell_type": "code",
     "collapsed": false,
     "input": [
      "mi_lista = range(0, 1000)\n"
     ],
     "language": "python",
     "metadata": {},
     "outputs": [],
     "prompt_number": 94
    },
    {
     "cell_type": "code",
     "collapsed": false,
     "input": [
      "%%timeit\n",
      "sum(mi_lista)"
     ],
     "language": "python",
     "metadata": {},
     "outputs": [
      {
       "output_type": "stream",
       "stream": "stdout",
       "text": [
        "10000 loops, best of 3: 150 \u00b5s per loop\n"
       ]
      }
     ],
     "prompt_number": 95
    },
    {
     "cell_type": "code",
     "collapsed": false,
     "input": [
      "%%timeit\n",
      "np.sum(mi_primer_array)"
     ],
     "language": "python",
     "metadata": {},
     "outputs": [
      {
       "output_type": "stream",
       "stream": "stdout",
       "text": [
        "100000 loops, best of 3: 8.19 \u00b5s per loop\n"
       ]
      }
     ],
     "prompt_number": 96
    },
    {
     "cell_type": "markdown",
     "metadata": {},
     "source": [
      "#### Creando Matrices B\u00e1sicas"
     ]
    },
    {
     "cell_type": "code",
     "collapsed": false,
     "input": [
      "mi_array_con_ceros = np.zeros((10, 10))\n",
      "mi_array_con_ceros"
     ],
     "language": "python",
     "metadata": {},
     "outputs": [
      {
       "metadata": {},
       "output_type": "pyout",
       "prompt_number": 97,
       "text": [
        "array([[ 0.,  0.,  0.,  0.,  0.,  0.,  0.,  0.,  0.,  0.],\n",
        "       [ 0.,  0.,  0.,  0.,  0.,  0.,  0.,  0.,  0.,  0.],\n",
        "       [ 0.,  0.,  0.,  0.,  0.,  0.,  0.,  0.,  0.,  0.],\n",
        "       [ 0.,  0.,  0.,  0.,  0.,  0.,  0.,  0.,  0.,  0.],\n",
        "       [ 0.,  0.,  0.,  0.,  0.,  0.,  0.,  0.,  0.,  0.],\n",
        "       [ 0.,  0.,  0.,  0.,  0.,  0.,  0.,  0.,  0.,  0.],\n",
        "       [ 0.,  0.,  0.,  0.,  0.,  0.,  0.,  0.,  0.,  0.],\n",
        "       [ 0.,  0.,  0.,  0.,  0.,  0.,  0.,  0.,  0.,  0.],\n",
        "       [ 0.,  0.,  0.,  0.,  0.,  0.,  0.,  0.,  0.,  0.],\n",
        "       [ 0.,  0.,  0.,  0.,  0.,  0.,  0.,  0.,  0.,  0.]])"
       ]
      }
     ],
     "prompt_number": 97
    },
    {
     "cell_type": "code",
     "collapsed": false,
     "input": [
      "mi_array_con_unos = np.ones((4, 6))\n",
      "mi_array_con_unos"
     ],
     "language": "python",
     "metadata": {},
     "outputs": [
      {
       "metadata": {},
       "output_type": "pyout",
       "prompt_number": 98,
       "text": [
        "array([[ 1.,  1.,  1.,  1.,  1.,  1.],\n",
        "       [ 1.,  1.,  1.,  1.,  1.,  1.],\n",
        "       [ 1.,  1.,  1.,  1.,  1.,  1.],\n",
        "       [ 1.,  1.,  1.,  1.,  1.,  1.]])"
       ]
      }
     ],
     "prompt_number": 98
    },
    {
     "cell_type": "code",
     "collapsed": false,
     "input": [
      "mi_identidad = np.identity((10))\n",
      "mi_identidad"
     ],
     "language": "python",
     "metadata": {},
     "outputs": [
      {
       "metadata": {},
       "output_type": "pyout",
       "prompt_number": 99,
       "text": [
        "array([[ 1.,  0.,  0.,  0.,  0.,  0.,  0.,  0.,  0.,  0.],\n",
        "       [ 0.,  1.,  0.,  0.,  0.,  0.,  0.,  0.,  0.,  0.],\n",
        "       [ 0.,  0.,  1.,  0.,  0.,  0.,  0.,  0.,  0.,  0.],\n",
        "       [ 0.,  0.,  0.,  1.,  0.,  0.,  0.,  0.,  0.,  0.],\n",
        "       [ 0.,  0.,  0.,  0.,  1.,  0.,  0.,  0.,  0.,  0.],\n",
        "       [ 0.,  0.,  0.,  0.,  0.,  1.,  0.,  0.,  0.,  0.],\n",
        "       [ 0.,  0.,  0.,  0.,  0.,  0.,  1.,  0.,  0.,  0.],\n",
        "       [ 0.,  0.,  0.,  0.,  0.,  0.,  0.,  1.,  0.,  0.],\n",
        "       [ 0.,  0.,  0.,  0.,  0.,  0.,  0.,  0.,  1.,  0.],\n",
        "       [ 0.,  0.,  0.,  0.,  0.,  0.,  0.,  0.,  0.,  1.]])"
       ]
      }
     ],
     "prompt_number": 99
    },
    {
     "cell_type": "code",
     "collapsed": false,
     "input": [
      "a = np.arange(0, 20)\n",
      "a"
     ],
     "language": "python",
     "metadata": {},
     "outputs": [
      {
       "metadata": {},
       "output_type": "pyout",
       "prompt_number": 100,
       "text": [
        "array([ 0,  1,  2,  3,  4,  5,  6,  7,  8,  9, 10, 11, 12, 13, 14, 15, 16,\n",
        "       17, 18, 19])"
       ]
      }
     ],
     "prompt_number": 100
    },
    {
     "cell_type": "code",
     "collapsed": false,
     "input": [
      "random_array = np.random.random((4, 3))\n",
      "random_array"
     ],
     "language": "python",
     "metadata": {},
     "outputs": [
      {
       "metadata": {},
       "output_type": "pyout",
       "prompt_number": 101,
       "text": [
        "array([[ 0.82721722,  0.43695547,  0.12176624],\n",
        "       [ 0.93654268,  0.11655674,  0.72170274],\n",
        "       [ 0.41598781,  0.40878812,  0.45663127],\n",
        "       [ 0.21871231,  0.04980211,  0.81204963]])"
       ]
      }
     ],
     "prompt_number": 101
    },
    {
     "cell_type": "code",
     "collapsed": false,
     "input": [
      "mi_array = np.arange(0, 100)\n",
      "mi_array.shape = (10, 10)#.reshape((10, 10))\n",
      "print mi_array\n",
      "print mi_array.shape\n",
      "\n",
      "print mi_array.dtype\n",
      "print mi_array.ndim"
     ],
     "language": "python",
     "metadata": {},
     "outputs": [
      {
       "output_type": "stream",
       "stream": "stdout",
       "text": [
        "[[ 0  1  2  3  4  5  6  7  8  9]\n",
        " [10 11 12 13 14 15 16 17 18 19]\n",
        " [20 21 22 23 24 25 26 27 28 29]\n",
        " [30 31 32 33 34 35 36 37 38 39]\n",
        " [40 41 42 43 44 45 46 47 48 49]\n",
        " [50 51 52 53 54 55 56 57 58 59]\n",
        " [60 61 62 63 64 65 66 67 68 69]\n",
        " [70 71 72 73 74 75 76 77 78 79]\n",
        " [80 81 82 83 84 85 86 87 88 89]\n",
        " [90 91 92 93 94 95 96 97 98 99]]\n",
        "(10, 10)\n",
        "int64\n",
        "2\n"
       ]
      }
     ],
     "prompt_number": 102
    },
    {
     "cell_type": "code",
     "collapsed": false,
     "input": [
      "b = np.linspace(0, 5, 100)\n",
      "print b\n",
      "print b.astype(np.int)"
     ],
     "language": "python",
     "metadata": {},
     "outputs": [
      {
       "output_type": "stream",
       "stream": "stdout",
       "text": [
        "[ 0.          0.05050505  0.1010101   0.15151515  0.2020202   0.25252525\n",
        "  0.3030303   0.35353535  0.4040404   0.45454545  0.50505051  0.55555556\n",
        "  0.60606061  0.65656566  0.70707071  0.75757576  0.80808081  0.85858586\n",
        "  0.90909091  0.95959596  1.01010101  1.06060606  1.11111111  1.16161616\n",
        "  1.21212121  1.26262626  1.31313131  1.36363636  1.41414141  1.46464646\n",
        "  1.51515152  1.56565657  1.61616162  1.66666667  1.71717172  1.76767677\n",
        "  1.81818182  1.86868687  1.91919192  1.96969697  2.02020202  2.07070707\n",
        "  2.12121212  2.17171717  2.22222222  2.27272727  2.32323232  2.37373737\n",
        "  2.42424242  2.47474747  2.52525253  2.57575758  2.62626263  2.67676768\n",
        "  2.72727273  2.77777778  2.82828283  2.87878788  2.92929293  2.97979798\n",
        "  3.03030303  3.08080808  3.13131313  3.18181818  3.23232323  3.28282828\n",
        "  3.33333333  3.38383838  3.43434343  3.48484848  3.53535354  3.58585859\n",
        "  3.63636364  3.68686869  3.73737374  3.78787879  3.83838384  3.88888889\n",
        "  3.93939394  3.98989899  4.04040404  4.09090909  4.14141414  4.19191919\n",
        "  4.24242424  4.29292929  4.34343434  4.39393939  4.44444444  4.49494949\n",
        "  4.54545455  4.5959596   4.64646465  4.6969697   4.74747475  4.7979798\n",
        "  4.84848485  4.8989899   4.94949495  5.        ]\n",
        "[0 0 0 0 0 0 0 0 0 0 0 0 0 0 0 0 0 0 0 0 1 1 1 1 1 1 1 1 1 1 1 1 1 1 1 1 1\n",
        " 1 1 1 2 2 2 2 2 2 2 2 2 2 2 2 2 2 2 2 2 2 2 2 3 3 3 3 3 3 3 3 3 3 3 3 3 3\n",
        " 3 3 3 3 3 3 4 4 4 4 4 4 4 4 4 4 4 4 4 4 4 4 4 4 4 5]\n"
       ]
      }
     ],
     "prompt_number": 103
    },
    {
     "cell_type": "code",
     "collapsed": false,
     "input": [
      "c = np.logspace(1, 30, num=100)\n",
      "c.reshape((10, 10))"
     ],
     "language": "python",
     "metadata": {},
     "outputs": [
      {
       "metadata": {},
       "output_type": "pyout",
       "prompt_number": 104,
       "text": [
        "array([[  1.00000000e+01,   1.96304065e+01,   3.85352859e+01,\n",
        "          7.56463328e+01,   1.48496826e+02,   2.91505306e+02,\n",
        "          5.72236766e+02,   1.12332403e+03,   2.20513074e+03,\n",
        "          4.32876128e+03],\n",
        "       [  8.49753436e+03,   1.66810054e+04,   3.27454916e+04,\n",
        "          6.42807312e+04,   1.26185688e+05,   2.47707636e+05,\n",
        "          4.86260158e+05,   9.54548457e+05,   1.87381742e+06,\n",
        "          3.67837977e+06],\n",
        "       [  7.22080902e+06,   1.41747416e+07,   2.78255940e+07,\n",
        "          5.46227722e+07,   1.07226722e+08,   2.10490414e+08,\n",
        "          4.13201240e+08,   8.11130831e+08,   1.59228279e+09,\n",
        "          3.12571585e+09],\n",
        "       [  6.13590727e+09,   1.20450354e+10,   2.36448941e+10,\n",
        "          4.64158883e+10,   9.11162756e+10,   1.78864953e+11,\n",
        "          3.51119173e+11,   6.89261210e+11,   1.35304777e+12,\n",
        "          2.65608778e+12],\n",
        "       [  5.21400829e+12,   1.02353102e+13,   2.00923300e+13,\n",
        "          3.94420606e+13,   7.74263683e+13,   1.51991108e+14,\n",
        "          2.98364724e+14,   5.85702082e+14,   1.14975700e+15,\n",
        "          2.25701972e+15],\n",
        "       [  4.43062146e+15,   8.69749003e+15,   1.70735265e+16,\n",
        "          3.35160265e+16,   6.57933225e+16,   1.29154967e+17,\n",
        "          2.53536449e+17,   4.97702356e+17,   9.77009957e+17,\n",
        "          1.91791026e+18],\n",
        "       [  3.76493581e+18,   7.39072203e+18,   1.45082878e+19,\n",
        "          2.84803587e+19,   5.59081018e+19,   1.09749877e+20,\n",
        "          2.15443469e+20,   4.22924287e+20,   8.30217568e+20,\n",
        "          1.62975083e+21],\n",
        "       [  3.19926714e+21,   6.28029144e+21,   1.23284674e+22,\n",
        "          2.42012826e+22,   4.75081016e+22,   9.32603347e+22,\n",
        "          1.83073828e+23,   3.59381366e+23,   7.05480231e+23,\n",
        "          1.38488637e+24],\n",
        "       [  2.71858824e+24,   5.33669923e+24,   1.04761575e+25,\n",
        "          2.05651231e+25,   4.03701726e+25,   7.92482898e+25,\n",
        "          1.55567614e+26,   3.05385551e+26,   5.99484250e+26,\n",
        "          1.17681195e+27],\n",
        "       [  2.31012970e+27,   4.53487851e+27,   8.90215085e+27,\n",
        "          1.74752840e+28,   3.43046929e+28,   6.73415066e+28,\n",
        "          1.32194115e+29,   2.59502421e+29,   5.09413801e+29,\n",
        "          1.00000000e+30]])"
       ]
      }
     ],
     "prompt_number": 104
    },
    {
     "cell_type": "code",
     "collapsed": false,
     "input": [
      "c = np.array(['1.2', '2.5'], dtype=np.string_)\n",
      "print c\n",
      "print c.astype(np.float)"
     ],
     "language": "python",
     "metadata": {},
     "outputs": [
      {
       "output_type": "stream",
       "stream": "stdout",
       "text": [
        "['1.2' '2.5']\n",
        "[ 1.2  2.5]\n"
       ]
      }
     ],
     "prompt_number": 105
    },
    {
     "cell_type": "markdown",
     "metadata": {},
     "source": [
      "#### Moviendonos dentro de un NumPy array"
     ]
    },
    {
     "cell_type": "code",
     "collapsed": false,
     "input": [
      "from IPython.display import Image\n",
      "Image(filename='images/slice.png')\n"
     ],
     "language": "python",
     "metadata": {},
     "outputs": [
      {
       "metadata": {},
       "output_type": "pyout",
       "png": "[encoded data removed]",
       "prompt_number": 106,
       "text": [
        "<IPython.core.display.Image at 0x418fc90>"
       ]
      }
     ],
     "prompt_number": 106
    },
    {
     "cell_type": "code",
     "collapsed": false,
     "input": [
      "for index in mi_array:\n",
      "    print index\n"
     ],
     "language": "python",
     "metadata": {},
     "outputs": [
      {
       "output_type": "stream",
       "stream": "stdout",
       "text": [
        "[0 1 2 3 4 5 6 7 8 9]\n",
        "[10 11 12 13 14 15 16 17 18 19]\n",
        "[20 21 22 23 24 25 26 27 28 29]\n",
        "[30 31 32 33 34 35 36 37 38 39]\n",
        "[40 41 42 43 44 45 46 47 48 49]\n",
        "[50 51 52 53 54 55 56 57 58 59]\n",
        "[60 61 62 63 64 65 66 67 68 69]\n",
        "[70 71 72 73 74 75 76 77 78 79]\n",
        "[80 81 82 83 84 85 86 87 88 89]\n",
        "[90 91 92 93 94 95 96 97 98 99]\n"
       ]
      }
     ],
     "prompt_number": 107
    },
    {
     "cell_type": "code",
     "collapsed": false,
     "input": [
      "print mi_array.shape\n",
      "print mi_array.shape[0]\n",
      "print mi_array.shape[1]\n",
      "print range(mi_array.shape[0])\n",
      "for x in range(mi_array.shape[0]):\n",
      "    for y in range(mi_array.shape[1]):\n",
      "        if mi_array[x][y] < 50:\n",
      "            mi_array[x][y] = 90\n",
      "\n",
      "print mi_array\n",
      "\n",
      "            \n",
      "        #print mi_array[x, y]"
     ],
     "language": "python",
     "metadata": {},
     "outputs": [
      {
       "output_type": "stream",
       "stream": "stdout",
       "text": [
        "(10, 10)\n",
        "10\n",
        "10\n",
        "[0, 1, 2, 3, 4, 5, 6, 7, 8, 9]\n",
        "[[90 90 90 90 90 90 90 90 90 90]\n",
        " [90 90 90 90 90 90 90 90 90 90]\n",
        " [90 90 90 90 90 90 90 90 90 90]\n",
        " [90 90 90 90 90 90 90 90 90 90]\n",
        " [90 90 90 90 90 90 90 90 90 90]\n",
        " [50 51 52 53 54 55 56 57 58 59]\n",
        " [60 61 62 63 64 65 66 67 68 69]\n",
        " [70 71 72 73 74 75 76 77 78 79]\n",
        " [80 81 82 83 84 85 86 87 88 89]\n",
        " [90 91 92 93 94 95 96 97 98 99]]\n"
       ]
      }
     ],
     "prompt_number": 108
    },
    {
     "cell_type": "markdown",
     "metadata": {},
     "source": [
      "#### Algunas operaciones sobre matrices"
     ]
    },
    {
     "cell_type": "code",
     "collapsed": false,
     "input": [
      "np.dot(mi_array.T, mi_array)"
     ],
     "language": "python",
     "metadata": {},
     "outputs": [
      {
       "metadata": {},
       "output_type": "pyout",
       "prompt_number": 109,
       "text": [
        "array([[66000, 66350, 66700, 67050, 67400, 67750, 68100, 68450, 68800,\n",
        "        69150],\n",
        "       [66350, 66705, 67060, 67415, 67770, 68125, 68480, 68835, 69190,\n",
        "        69545],\n",
        "       [66700, 67060, 67420, 67780, 68140, 68500, 68860, 69220, 69580,\n",
        "        69940],\n",
        "       [67050, 67415, 67780, 68145, 68510, 68875, 69240, 69605, 69970,\n",
        "        70335],\n",
        "       [67400, 67770, 68140, 68510, 68880, 69250, 69620, 69990, 70360,\n",
        "        70730],\n",
        "       [67750, 68125, 68500, 68875, 69250, 69625, 70000, 70375, 70750,\n",
        "        71125],\n",
        "       [68100, 68480, 68860, 69240, 69620, 70000, 70380, 70760, 71140,\n",
        "        71520],\n",
        "       [68450, 68835, 69220, 69605, 69990, 70375, 70760, 71145, 71530,\n",
        "        71915],\n",
        "       [68800, 69190, 69580, 69970, 70360, 70750, 71140, 71530, 71920,\n",
        "        72310],\n",
        "       [69150, 69545, 69940, 70335, 70730, 71125, 71520, 71915, 72310,\n",
        "        72705]])"
       ]
      }
     ],
     "prompt_number": 109
    },
    {
     "cell_type": "code",
     "collapsed": false,
     "input": [
      "mi_array.transpose()\n"
     ],
     "language": "python",
     "metadata": {},
     "outputs": [
      {
       "metadata": {},
       "output_type": "pyout",
       "prompt_number": 110,
       "text": [
        "array([[90, 90, 90, 90, 90, 50, 60, 70, 80, 90],\n",
        "       [90, 90, 90, 90, 90, 51, 61, 71, 81, 91],\n",
        "       [90, 90, 90, 90, 90, 52, 62, 72, 82, 92],\n",
        "       [90, 90, 90, 90, 90, 53, 63, 73, 83, 93],\n",
        "       [90, 90, 90, 90, 90, 54, 64, 74, 84, 94],\n",
        "       [90, 90, 90, 90, 90, 55, 65, 75, 85, 95],\n",
        "       [90, 90, 90, 90, 90, 56, 66, 76, 86, 96],\n",
        "       [90, 90, 90, 90, 90, 57, 67, 77, 87, 97],\n",
        "       [90, 90, 90, 90, 90, 58, 68, 78, 88, 98],\n",
        "       [90, 90, 90, 90, 90, 59, 69, 79, 89, 99]])"
       ]
      }
     ],
     "prompt_number": 110
    },
    {
     "cell_type": "code",
     "collapsed": false,
     "input": [
      "np.maximum(np.array([1, 2, 3]), np.array([0, 3, 4]))"
     ],
     "language": "python",
     "metadata": {},
     "outputs": [
      {
       "metadata": {},
       "output_type": "pyout",
       "prompt_number": 111,
       "text": [
        "array([1, 3, 4])"
       ]
      }
     ],
     "prompt_number": 111
    },
    {
     "cell_type": "code",
     "collapsed": false,
     "input": [
      "mi_array.sum()"
     ],
     "language": "python",
     "metadata": {},
     "outputs": [
      {
       "metadata": {},
       "output_type": "pyout",
       "prompt_number": 112,
       "text": [
        "8225"
       ]
      }
     ],
     "prompt_number": 112
    },
    {
     "cell_type": "code",
     "collapsed": false,
     "input": [
      "random_array.cumprod()"
     ],
     "language": "python",
     "metadata": {},
     "outputs": [
      {
       "metadata": {},
       "output_type": "pyout",
       "prompt_number": 113,
       "text": [
        "array([  8.27217215e-01,   3.61457088e-01,   4.40132708e-02,\n",
        "         4.12203067e-02,   4.80450442e-03,   3.46742402e-03,\n",
        "         1.44240612e-03,   5.89638492e-04,   2.69247373e-04,\n",
        "         5.88877152e-05,   2.93273267e-06,   2.38152448e-06])"
       ]
      }
     ],
     "prompt_number": 113
    },
    {
     "cell_type": "code",
     "collapsed": false,
     "input": [
      "mi_array.cumsum()"
     ],
     "language": "python",
     "metadata": {},
     "outputs": [
      {
       "metadata": {},
       "output_type": "pyout",
       "prompt_number": 114,
       "text": [
        "array([  90,  180,  270,  360,  450,  540,  630,  720,  810,  900,  990,\n",
        "       1080, 1170, 1260, 1350, 1440, 1530, 1620, 1710, 1800, 1890, 1980,\n",
        "       2070, 2160, 2250, 2340, 2430, 2520, 2610, 2700, 2790, 2880, 2970,\n",
        "       3060, 3150, 3240, 3330, 3420, 3510, 3600, 3690, 3780, 3870, 3960,\n",
        "       4050, 4140, 4230, 4320, 4410, 4500, 4550, 4601, 4653, 4706, 4760,\n",
        "       4815, 4871, 4928, 4986, 5045, 5105, 5166, 5228, 5291, 5355, 5420,\n",
        "       5486, 5553, 5621, 5690, 5760, 5831, 5903, 5976, 6050, 6125, 6201,\n",
        "       6278, 6356, 6435, 6515, 6596, 6678, 6761, 6845, 6930, 7016, 7103,\n",
        "       7191, 7280, 7370, 7461, 7553, 7646, 7740, 7835, 7931, 8028, 8126,\n",
        "       8225])"
       ]
      }
     ],
     "prompt_number": 114
    },
    {
     "cell_type": "code",
     "collapsed": false,
     "input": [
      "np.sqrt(a)"
     ],
     "language": "python",
     "metadata": {},
     "outputs": [
      {
       "metadata": {},
       "output_type": "pyout",
       "prompt_number": 115,
       "text": [
        "array([ 0.        ,  1.        ,  1.41421356,  1.73205081,  2.        ,\n",
        "        2.23606798,  2.44948974,  2.64575131,  2.82842712,  3.        ,\n",
        "        3.16227766,  3.31662479,  3.46410162,  3.60555128,  3.74165739,\n",
        "        3.87298335,  4.        ,  4.12310563,  4.24264069,  4.35889894])"
       ]
      }
     ],
     "prompt_number": 115
    },
    {
     "cell_type": "code",
     "collapsed": false,
     "input": [
      "np.add(np.array([1, 2]),np.array([4, 5]))\n",
      "#a + b"
     ],
     "language": "python",
     "metadata": {},
     "outputs": [
      {
       "metadata": {},
       "output_type": "pyout",
       "prompt_number": 116,
       "text": [
        "array([5, 7])"
       ]
      }
     ],
     "prompt_number": 116
    },
    {
     "cell_type": "code",
     "collapsed": false,
     "input": [
      "print _ - _\n",
      "print np.subtract(_, _)"
     ],
     "language": "python",
     "metadata": {},
     "outputs": [
      {
       "output_type": "stream",
       "stream": "stdout",
       "text": [
        "[0 0]\n",
        "[0 0]\n"
       ]
      }
     ],
     "prompt_number": 117
    },
    {
     "cell_type": "code",
     "collapsed": false,
     "input": [
      "print a ** 2\n",
      "print np.square(a)"
     ],
     "language": "python",
     "metadata": {},
     "outputs": [
      {
       "output_type": "stream",
       "stream": "stdout",
       "text": [
        "[  0   1   4   9  16  25  36  49  64  81 100 121 144 169 196 225 256 289\n",
        " 324 361]\n",
        "[  0   1   4   9  16  25  36  49  64  81 100 121 144 169 196 225 256 289\n",
        " 324 361]\n"
       ]
      }
     ],
     "prompt_number": 118
    },
    {
     "cell_type": "code",
     "collapsed": false,
     "input": [
      "print a\n",
      "print 1.0 / a # ver que ocurre al dividir por cero\n",
      "print 1.0 / a[1:]"
     ],
     "language": "python",
     "metadata": {},
     "outputs": [
      {
       "output_type": "stream",
       "stream": "stdout",
       "text": [
        "[ 0  1  2  3  4  5  6  7  8  9 10 11 12 13 14 15 16 17 18 19]\n",
        "[        inf  1.          0.5         0.33333333  0.25        0.2\n",
        "  0.16666667  0.14285714  0.125       0.11111111  0.1         0.09090909\n",
        "  0.08333333  0.07692308  0.07142857  0.06666667  0.0625      0.05882353\n",
        "  0.05555556  0.05263158]\n",
        "[ 1.          0.5         0.33333333  0.25        0.2         0.16666667\n",
        "  0.14285714  0.125       0.11111111  0.1         0.09090909  0.08333333\n",
        "  0.07692308  0.07142857  0.06666667  0.0625      0.05882353  0.05555556\n",
        "  0.05263158]\n"
       ]
      }
     ],
     "prompt_number": 119
    },
    {
     "cell_type": "code",
     "collapsed": false,
     "input": [
      "tmp_array = 10 * np.sin(a)"
     ],
     "language": "python",
     "metadata": {},
     "outputs": [],
     "prompt_number": 120
    },
    {
     "cell_type": "code",
     "collapsed": false,
     "input": [
      "tmp_array_2 = 10 * np.cos(a)"
     ],
     "language": "python",
     "metadata": {},
     "outputs": [],
     "prompt_number": 121
    },
    {
     "cell_type": "code",
     "collapsed": false,
     "input": [
      "print tmp_array\n",
      "np.sort(tmp_array)"
     ],
     "language": "python",
     "metadata": {},
     "outputs": [
      {
       "output_type": "stream",
       "stream": "stdout",
       "text": [
        "[ 0.          8.41470985  9.09297427  1.41120008 -7.56802495 -9.58924275\n",
        " -2.79415498  6.56986599  9.89358247  4.12118485 -5.44021111 -9.99990207\n",
        " -5.36572918  4.20167037  9.90607356  6.5028784  -2.87903317 -9.61397492\n",
        " -7.50987247  1.4987721 ]\n"
       ]
      },
      {
       "metadata": {},
       "output_type": "pyout",
       "prompt_number": 122,
       "text": [
        "array([-9.99990207, -9.61397492, -9.58924275, -7.56802495, -7.50987247,\n",
        "       -5.44021111, -5.36572918, -2.87903317, -2.79415498,  0.        ,\n",
        "        1.41120008,  1.4987721 ,  4.12118485,  4.20167037,  6.5028784 ,\n",
        "        6.56986599,  8.41470985,  9.09297427,  9.89358247,  9.90607356])"
       ]
      }
     ],
     "prompt_number": 122
    },
    {
     "cell_type": "code",
     "collapsed": false,
     "input": [
      "print np.unique(mi_array_con_unos)\n",
      "print np.unique(np.array([1, 1, 2, 4]))"
     ],
     "language": "python",
     "metadata": {},
     "outputs": [
      {
       "output_type": "stream",
       "stream": "stdout",
       "text": [
        "[ 1.]\n",
        "[1 2 4]\n"
       ]
      }
     ],
     "prompt_number": 123
    },
    {
     "cell_type": "code",
     "collapsed": false,
     "input": [
      "np.intersect1d(mi_array_con_unos, np.array([1., 1., 34., 56.4]))\n"
     ],
     "language": "python",
     "metadata": {},
     "outputs": [
      {
       "metadata": {},
       "output_type": "pyout",
       "prompt_number": 124,
       "text": [
        "array([ 1.])"
       ]
      }
     ],
     "prompt_number": 124
    },
    {
     "cell_type": "code",
     "collapsed": false,
     "input": [
      "from IPython.display import IFrame\n",
      "IFrame('http://docs.scipy.org/doc/numpy/reference/routines.set.html', width=1000, height=350)\n"
     ],
     "language": "python",
     "metadata": {},
     "outputs": [
      {
       "html": [
        "\n",
        "        <iframe\n",
        "            width=\"1000\"\n",
        "            height=350\"\n",
        "            src=\"http://docs.scipy.org/doc/numpy/reference/routines.set.html\"\n",
        "            frameborder=\"0\"\n",
        "            allowfullscreen\n",
        "        ></iframe>\n",
        "        "
       ],
       "metadata": {},
       "output_type": "pyout",
       "prompt_number": 125,
       "text": [
        "<IPython.lib.display.IFrame at 0x418fdd0>"
       ]
      }
     ],
     "prompt_number": 125
    },
    {
     "cell_type": "markdown",
     "metadata": {},
     "source": [
      "#### Condicionales dentro de numpy arrays"
     ]
    },
    {
     "cell_type": "code",
     "collapsed": false,
     "input": [
      "a < 10"
     ],
     "language": "python",
     "metadata": {},
     "outputs": [
      {
       "metadata": {},
       "output_type": "pyout",
       "prompt_number": 126,
       "text": [
        "array([ True,  True,  True,  True,  True,  True,  True,  True,  True,\n",
        "        True, False, False, False, False, False, False, False, False,\n",
        "       False, False], dtype=bool)"
       ]
      }
     ],
     "prompt_number": 126
    },
    {
     "cell_type": "code",
     "collapsed": false,
     "input": [
      "tmp = a[a < 10]\n",
      "tmp"
     ],
     "language": "python",
     "metadata": {},
     "outputs": [
      {
       "metadata": {},
       "output_type": "pyout",
       "prompt_number": 127,
       "text": [
        "array([0, 1, 2, 3, 4, 5, 6, 7, 8, 9])"
       ]
      }
     ],
     "prompt_number": 127
    },
    {
     "cell_type": "code",
     "collapsed": false,
     "input": [
      "a[a < 10] = 1\n",
      "a"
     ],
     "language": "python",
     "metadata": {},
     "outputs": [
      {
       "metadata": {},
       "output_type": "pyout",
       "prompt_number": 128,
       "text": [
        "array([ 1,  1,  1,  1,  1,  1,  1,  1,  1,  1, 10, 11, 12, 13, 14, 15, 16,\n",
        "       17, 18, 19])"
       ]
      }
     ],
     "prompt_number": 128
    },
    {
     "cell_type": "code",
     "collapsed": false,
     "input": [
      "bool_array = np.array([True, False, False])\n",
      "print bool_array.any()\n",
      "print bool_array.all()\n"
     ],
     "language": "python",
     "metadata": {},
     "outputs": [
      {
       "output_type": "stream",
       "stream": "stdout",
       "text": [
        "True\n",
        "False\n"
       ]
      }
     ],
     "prompt_number": 129
    },
    {
     "cell_type": "markdown",
     "metadata": {},
     "source": [
      "#### Algebral Lineal con NumPy"
     ]
    },
    {
     "cell_type": "code",
     "collapsed": false,
     "input": [
      "from numpy.linalg import inv, qr\n",
      "from numpy.linalg import *\n",
      "x = np.random.random((5, 5))\n",
      "\n",
      "#print inv(x)\n",
      "print qr(x)"
     ],
     "language": "python",
     "metadata": {},
     "outputs": [
      {
       "output_type": "stream",
       "stream": "stdout",
       "text": [
        "(array([[-0.39700982,  0.38464433, -0.08904092,  0.67929832,  0.47440221],\n",
        "       [-0.61790613, -0.71572458,  0.27230586,  0.14860386, -0.09847211],\n",
        "       [-0.49105213,  0.04888125, -0.76899772, -0.40613075, -0.01336997],\n",
        "       [-0.30865791,  0.46887782,  0.16990959,  0.13420715, -0.79875093],\n",
        "       [-0.35238234,  0.34285752,  0.54561385, -0.57750926,  0.35646035]]), array([[-1.08379238, -1.25619128, -0.5300912 , -0.8228814 , -0.93128881],\n",
        "       [ 0.        ,  1.03781528,  0.30973067,  0.57472696, -0.28800133],\n",
        "       [ 0.        ,  0.        ,  0.13827002,  0.12182903,  0.14810691],\n",
        "       [ 0.        ,  0.        ,  0.        , -0.455372  , -0.0190805 ],\n",
        "       [ 0.        ,  0.        ,  0.        ,  0.        ,  0.15636047]]))\n"
       ]
      }
     ],
     "prompt_number": 130
    },
    {
     "cell_type": "code",
     "collapsed": false,
     "input": [
      "from numpy import linalg\n",
      "\n",
      "print linalg.eigvals(x)\n",
      "print linalg.eig(x)\n",
      "print linalg.solve?\n"
     ],
     "language": "python",
     "metadata": {},
     "outputs": [
      {
       "output_type": "stream",
       "stream": "stdout",
       "text": [
        "[ 2.14561359+0.j         -0.55026199+0.j          0.01331227+0.26918181j\n",
        "  0.01331227-0.26918181j -0.12912613+0.j        ]\n",
        "(array([ 2.14561359+0.j        , -0.55026199+0.j        ,\n",
        "        0.01331227+0.26918181j,  0.01331227-0.26918181j, -0.12912613+0.j        ]), array([[ 0.43700243+0.j        , -0.56042113+0.j        ,\n",
        "         0.53133791+0.0561214j ,  0.53133791-0.0561214j ,  0.07348302+0.j        ],\n",
        "       [ 0.38886488+0.j        ,  0.69596767+0.j        ,\n",
        "        -0.09250945+0.34501444j, -0.09250945-0.34501444j,  0.24247080+0.j        ],\n",
        "       [ 0.44720084+0.j        ,  0.09736404+0.j        ,\n",
        "        -0.00984692-0.30410659j, -0.00984692+0.30410659j, -0.95737699+0.j        ],\n",
        "       [ 0.39831528+0.j        , -0.43772628+0.j        ,\n",
        "         0.09660254-0.41164376j,  0.09660254+0.41164376j,  0.12912783+0.j        ],\n",
        "       [ 0.54696375+0.j        , -0.02175106+0.j        ,\n",
        "        -0.56176244+0.j        , -0.56176244+0.j        ,  0.05063056+0.j        ]]))\n"
       ]
      }
     ],
     "prompt_number": 131
    },
    {
     "cell_type": "code",
     "collapsed": false,
     "input": [
      "print linalg.solve"
     ],
     "language": "python",
     "metadata": {},
     "outputs": []
    },
    {
     "cell_type": "code",
     "collapsed": false,
     "input": [
      "print linalg.solve"
     ],
     "language": "python",
     "metadata": {},
     "outputs": [
      {
       "output_type": "stream",
       "stream": "stdout",
       "text": [
        "<function solve at 0x27cb398>\n"
       ]
      }
     ],
     "prompt_number": 132
    },
    {
     "cell_type": "code",
     "collapsed": false,
     "input": [
      "print linalg.solve"
     ],
     "language": "python",
     "metadata": {},
     "outputs": [
      {
       "output_type": "stream",
       "stream": "stdout",
       "text": [
        "<function solve at 0x27cb398>\n"
       ]
      }
     ],
     "prompt_number": 133
    },
    {
     "cell_type": "markdown",
     "metadata": {},
     "source": [
      "#### Estad\u00edstica con NumPy y SciPy "
     ]
    },
    {
     "cell_type": "code",
     "collapsed": false,
     "input": [
      "np.median(tmp_array)"
     ],
     "language": "python",
     "metadata": {},
     "outputs": [
      {
       "metadata": {},
       "output_type": "pyout",
       "prompt_number": 64,
       "text": [
        "4.5"
       ]
      }
     ],
     "prompt_number": 64
    },
    {
     "cell_type": "code",
     "collapsed": false,
     "input": [
      "np.average(tmp_array)"
     ],
     "language": "python",
     "metadata": {},
     "outputs": [
      {
       "metadata": {},
       "output_type": "pyout",
       "prompt_number": 65,
       "text": [
        "4.5"
       ]
      }
     ],
     "prompt_number": 65
    },
    {
     "cell_type": "code",
     "collapsed": false,
     "input": [
      "np.mean(tmp_array)"
     ],
     "language": "python",
     "metadata": {},
     "outputs": [
      {
       "metadata": {},
       "output_type": "pyout",
       "prompt_number": 66,
       "text": [
        "4.5"
       ]
      }
     ],
     "prompt_number": 66
    },
    {
     "cell_type": "code",
     "collapsed": false,
     "input": [
      "np.std(tmp_array) #recordar nanmean nanstd nanvar"
     ],
     "language": "python",
     "metadata": {},
     "outputs": [
      {
       "metadata": {},
       "output_type": "pyout",
       "prompt_number": 67,
       "text": [
        "6.8786968114532501"
       ]
      }
     ],
     "prompt_number": 67
    },
    {
     "cell_type": "code",
     "collapsed": false,
     "input": [
      "np.min(tmp_array)"
     ],
     "language": "python",
     "metadata": {},
     "outputs": [
      {
       "metadata": {},
       "output_type": "pyout",
       "prompt_number": 68,
       "text": [
        "-9.999902065507035"
       ]
      }
     ],
     "prompt_number": 68
    },
    {
     "cell_type": "code",
     "collapsed": false,
     "input": [
      "np.max(tmp_array)"
     ],
     "language": "python",
     "metadata": {},
     "outputs": [
      {
       "metadata": {},
       "output_type": "pyout",
       "prompt_number": 69,
       "text": [
        "9.9060735569487033"
       ]
      }
     ],
     "prompt_number": 69
    },
    {
     "cell_type": "code",
     "collapsed": false,
     "input": [
      "np.cov(tmp_array_2, tmp_array)\n"
     ],
     "language": "python",
     "metadata": {},
     "outputs": [
      {
       "metadata": {},
       "output_type": "pyout",
       "prompt_number": 70,
       "text": [
        "array([[ 55.11749904,   0.40252224],\n",
        "       [  0.40252224,  49.80681034]])"
       ]
      }
     ],
     "prompt_number": 70
    },
    {
     "cell_type": "code",
     "collapsed": false,
     "input": [
      "np.var(tmp_array)"
     ],
     "language": "python",
     "metadata": {},
     "outputs": [
      {
       "metadata": {},
       "output_type": "pyout",
       "prompt_number": 71,
       "text": [
        "47.316469823897108"
       ]
      }
     ],
     "prompt_number": 71
    },
    {
     "cell_type": "code",
     "collapsed": false,
     "input": [
      "np.corrcoef(tmp_array, tmp_array_2)\n",
      "np.corrcoef?"
     ],
     "language": "python",
     "metadata": {},
     "outputs": [],
     "prompt_number": 72
    },
    {
     "cell_type": "code",
     "collapsed": false,
     "input": [
      "np.correlate(np.arange(10), np.arange(5, 15))"
     ],
     "language": "python",
     "metadata": {},
     "outputs": [
      {
       "metadata": {},
       "output_type": "pyout",
       "prompt_number": 73,
       "text": [
        "array([510])"
       ]
      }
     ],
     "prompt_number": 73
    },
    {
     "cell_type": "code",
     "collapsed": false,
     "input": [
      "from IPython.display import IFrame\n",
      "IFrame('http://docs.scipy.org/doc/scipy/reference/stats.html', width=1000, height=350)"
     ],
     "language": "python",
     "metadata": {},
     "outputs": [
      {
       "html": [
        "\n",
        "        <iframe\n",
        "            width=\"1000\"\n",
        "            height=350\"\n",
        "            src=\"http://docs.scipy.org/doc/scipy/reference/stats.html\"\n",
        "            frameborder=\"0\"\n",
        "            allowfullscreen\n",
        "        ></iframe>\n",
        "        "
       ],
       "metadata": {},
       "output_type": "pyout",
       "prompt_number": 74,
       "text": [
        "<IPython.lib.display.IFrame at 0x34870d0>"
       ]
      }
     ],
     "prompt_number": 74
    },
    {
     "cell_type": "code",
     "collapsed": false,
     "input": [
      "from scipy.stats import distributions as dis\n",
      "import matplotlib.pyplot as plt\n",
      "\n",
      "\n"
     ],
     "language": "python",
     "metadata": {},
     "outputs": [],
     "prompt_number": 75
    },
    {
     "cell_type": "code",
     "collapsed": false,
     "input": [
      "rand_array = dis.norm.rvs(size=100)\n",
      "plt.plot(rand_array)"
     ],
     "language": "python",
     "metadata": {},
     "outputs": [
      {
       "metadata": {},
       "output_type": "pyout",
       "prompt_number": 139,
       "text": [
        "[<matplotlib.lines.Line2D at 0x441c450>]"
       ]
      },
      {
       "metadata": {},
       "output_type": "display_data",
       "png": "[encoded data removed]",
       "text": [
        "<matplotlib.figure.Figure at 0x43fb5d0>"
       ]
      }
     ],
     "prompt_number": 139
    },
    {
     "cell_type": "code",
     "collapsed": false,
     "input": [
      "c = np.linspace(-5, 5, 100)"
     ],
     "language": "python",
     "metadata": {},
     "outputs": [],
     "prompt_number": 140
    },
    {
     "cell_type": "code",
     "collapsed": false,
     "input": [
      "pdf = dis.norm.pdf(c) # Probability density func\n",
      "plt.plot(pdf)"
     ],
     "language": "python",
     "metadata": {},
     "outputs": [
      {
       "metadata": {},
       "output_type": "pyout",
       "prompt_number": 141,
       "text": [
        "[<matplotlib.lines.Line2D at 0x45f8350>]"
       ]
      },
      {
       "metadata": {},
       "output_type": "display_data",
       "png": "[encoded data removed]",
       "text": [
        "<matplotlib.figure.Figure at 0x44d1cd0>"
       ]
      }
     ],
     "prompt_number": 141
    },
    {
     "cell_type": "code",
     "collapsed": false,
     "input": [
      "cdf = dis.norm.cdf(c) #cumulative distribution function\n",
      "plt.plot(cdf)\n",
      "dis.norm.cdf?"
     ],
     "language": "python",
     "metadata": {},
     "outputs": [
      {
       "metadata": {},
       "output_type": "display_data",
       "png": "[encoded data removed]",
       "text": [
        "<matplotlib.figure.Figure at 0x418b850>"
       ]
      }
     ],
     "prompt_number": 142
    },
    {
     "cell_type": "code",
     "collapsed": false,
     "input": [
      "ppf = dis.norm.ppf(c) #Percent point fuction\n",
      "plt.plot(ppf)"
     ],
     "language": "python",
     "metadata": {},
     "outputs": [
      {
       "metadata": {},
       "output_type": "pyout",
       "prompt_number": 80,
       "text": [
        "[<matplotlib.lines.Line2D at 0x3e3e390>]"
       ]
      },
      {
       "metadata": {},
       "output_type": "display_data",
       "png": "[encoded data removed]",
       "text": [
        "<matplotlib.figure.Figure at 0x3abfa50>"
       ]
      }
     ],
     "prompt_number": 80
    },
    {
     "cell_type": "code",
     "collapsed": false,
     "input": [
      "random_array = dis.poisson.rvs(1.0, size=100)\n",
      "plt.plot(random_array)"
     ],
     "language": "python",
     "metadata": {},
     "outputs": [
      {
       "metadata": {},
       "output_type": "pyout",
       "prompt_number": 143,
       "text": [
        "[<matplotlib.lines.Line2D at 0x45b6b50>]"
       ]
      },
      {
       "metadata": {},
       "output_type": "display_data",
       "png": "[encoded data removed]",
       "text": [
        "<matplotlib.figure.Figure at 0x45c3e50>"
       ]
      }
     ],
     "prompt_number": 143
    },
    {
     "cell_type": "code",
     "collapsed": false,
     "input": [
      "ppf = dis.poisson.ppf(c, 2.0) # Percent point func\n",
      "plt.plot(ppf)"
     ],
     "language": "python",
     "metadata": {},
     "outputs": [
      {
       "metadata": {},
       "output_type": "pyout",
       "prompt_number": 144,
       "text": [
        "[<matplotlib.lines.Line2D at 0x46059d0>]"
       ]
      },
      {
       "metadata": {},
       "output_type": "display_data",
       "png": "[encoded data removed]",
       "text": [
        "<matplotlib.figure.Figure at 0x45aab90>"
       ]
      }
     ],
     "prompt_number": 144
    },
    {
     "cell_type": "markdown",
     "metadata": {},
     "source": [
      "#### Algunos tests"
     ]
    },
    {
     "cell_type": "code",
     "collapsed": false,
     "input": [
      "from scipy import stats\n",
      "stats.ttest_1samp(random_array, popmean=1.0) # varios ttest pueden verse en la doc arriba"
     ],
     "language": "python",
     "metadata": {},
     "outputs": [
      {
       "ename": "NameError",
       "evalue": "name 'random_array' is not defined",
       "output_type": "pyerr",
       "traceback": [
        "\u001b[1;31m---------------------------------------------------------------------------\u001b[0m\n\u001b[1;31mNameError\u001b[0m                                 Traceback (most recent call last)",
        "\u001b[1;32m<ipython-input-1-0aa5add34ccf>\u001b[0m in \u001b[0;36m<module>\u001b[1;34m()\u001b[0m\n\u001b[0;32m      1\u001b[0m \u001b[1;32mfrom\u001b[0m \u001b[0mscipy\u001b[0m \u001b[1;32mimport\u001b[0m \u001b[0mstats\u001b[0m\u001b[1;33m\u001b[0m\u001b[0m\n\u001b[1;32m----> 2\u001b[1;33m \u001b[0mstats\u001b[0m\u001b[1;33m.\u001b[0m\u001b[0mttest_1samp\u001b[0m\u001b[1;33m(\u001b[0m\u001b[0mrandom_array\u001b[0m\u001b[1;33m,\u001b[0m \u001b[0mpopmean\u001b[0m\u001b[1;33m=\u001b[0m\u001b[1;36m1.0\u001b[0m\u001b[1;33m)\u001b[0m \u001b[1;31m# varios ttest pueden verse en la doc arriba\u001b[0m\u001b[1;33m\u001b[0m\u001b[0m\n\u001b[0m",
        "\u001b[1;31mNameError\u001b[0m: name 'random_array' is not defined"
       ]
      }
     ],
     "prompt_number": 1
    },
    {
     "cell_type": "code",
     "collapsed": false,
     "input": [
      "print stats.normaltest(random_array) # Poisson rvs\n",
      "print stats.normaltest(rand_array)   # Normal rvs\n",
      "print stats.f_oneway(random_array, rand_array) # anova one-way"
     ],
     "language": "python",
     "metadata": {},
     "outputs": [
      {
       "output_type": "stream",
       "stream": "stdout",
       "text": [
        "(6.2835828705205596, 0.043205328982635613)\n",
        "(0.30735304077601394, 0.8575493758890923)\n",
        "(56.730851023434575, 1.7365778715652113e-12)\n"
       ]
      }
     ],
     "prompt_number": 148
    },
    {
     "cell_type": "code",
     "collapsed": false,
     "input": [
      "mu, sigma = 100, 15\n",
      "x = mu + sigma * np.random.randn(10000)\n",
      "hist, bins = np.histogram(x, bins=50)\n",
      "width = 0.7 * (bins[1] - bins[0])\n",
      "center = (bins[:-1] + bins[1:]) / 2\n",
      "plt.bar(center, hist, align='center', width=width)\n",
      "plt.show()"
     ],
     "language": "python",
     "metadata": {},
     "outputs": [
      {
       "metadata": {},
       "output_type": "display_data",
       "png": "[encoded data removed]",
       "text": [
        "<matplotlib.figure.Figure at 0x4f13ed0>"
       ]
      }
     ],
     "prompt_number": 158
    },
    {
     "cell_type": "markdown",
     "metadata": {},
     "source": [
      "#### Cargando y guardando matrices desde Numpy"
     ]
    },
    {
     "cell_type": "code",
     "collapsed": false,
     "input": [
      "np.loadtxt('data/all_test.txt') #recuerden que deben porner el directorio con el archivo que tengan en su m\u00e1quina"
     ],
     "language": "python",
     "metadata": {},
     "outputs": [
      {
       "metadata": {},
       "output_type": "pyout",
       "prompt_number": 159,
       "text": [
        "array([[  1.00000000e+00,   1.23878059e-02,   1.31715207e-01, ...,\n",
        "         -1.74437596e-01,  -8.95981985e-02,  -9.26632204e-02],\n",
        "       [  2.00000000e+00,   1.25031879e-02,   1.31709144e-01, ...,\n",
        "         -1.74692578e-01,  -8.86146545e-02,  -9.46874638e-02],\n",
        "       [  3.00000000e+00,   1.17274741e-02,   1.31834468e-01, ...,\n",
        "         -1.73939503e-01,  -9.11186133e-02,  -9.29877129e-02],\n",
        "       ..., \n",
        "       [  3.00000000e+01,   1.22742985e-02,   1.31966675e-01, ...,\n",
        "         -1.78208760e-01,  -9.25809910e-02,  -9.85028068e-02],\n",
        "       [  3.10000000e+01,   1.30908795e-02,   1.31742733e-01, ...,\n",
        "         -1.77678408e-01,  -9.35563766e-02,  -9.78072219e-02],\n",
        "       [  3.20000000e+01,   1.38865818e-02,   1.30255015e-01, ...,\n",
        "         -1.77045614e-01,  -9.40619731e-02,  -9.70797650e-02]])"
       ]
      }
     ],
     "prompt_number": 159
    },
    {
     "cell_type": "code",
     "collapsed": false,
     "input": [
      "np.loadtxt('data/test.csv', delimiter=';')"
     ],
     "language": "python",
     "metadata": {},
     "outputs": [
      {
       "metadata": {},
       "output_type": "pyout",
       "prompt_number": 160,
       "text": [
        "array([[   45.816225,    15.8233  ,  -596.57111 , ...,   -26.879683,\n",
        "          -76.346088,  -627.04217 ],\n",
        "       [   46.385489,    13.519029, -1111.361468, ...,   -14.201321,\n",
        "          -53.639663, -1185.832734],\n",
        "       [   51.098207,    11.701928,  -956.64657 , ...,   -19.788255,\n",
        "          -65.302829, -1020.619694],\n",
        "       ..., \n",
        "       [   50.376636,   -22.60003 , -1223.887096, ...,   -12.06811 ,\n",
        "          -67.709053, -1316.012439],\n",
        "       [   48.2473  ,    10.821512,  -436.6805  , ...,   -36.598551,\n",
        "          -73.252152,  -469.008374],\n",
        "       [    3.442754,   106.239119, -1160.252644, ...,   -70.16896 ,\n",
        "           10.331487, -1133.598909]])"
       ]
      }
     ],
     "prompt_number": 160
    },
    {
     "cell_type": "code",
     "collapsed": false,
     "input": [
      "test_csv = np.loadtxt('data/test.csv', delimiter=';', usecols=range(5))\n",
      "print test_csv\n",
      "print test_csv.shape"
     ],
     "language": "python",
     "metadata": {},
     "outputs": [
      {
       "output_type": "stream",
       "stream": "stdout",
       "text": [
        "[[   45.816225    15.8233    -596.57111     51.664858   -25.809904]\n",
        " [   46.385489    13.519029 -1111.361468    53.575133   -27.719261]\n",
        " [   51.098207    11.701928  -956.64657     57.964452   -31.556037]\n",
        " ..., \n",
        " [   50.376636   -22.60003  -1223.887096    58.851702   -58.841524]\n",
        " [   48.2473      10.821512  -436.6805      50.406017   -29.816684]\n",
        " [    3.442754   106.239119 -1160.252644     5.034632    83.948088]]\n",
        "(1520, 5)\n"
       ]
      }
     ],
     "prompt_number": 161
    },
    {
     "cell_type": "code",
     "collapsed": false,
     "input": [
      "test_array = np.loadtxt('data/test.csv', delimiter=';', usecols=[0, 2, 4])\n",
      "print test_array.shape\n",
      "test_array.shape = (760, -1, 3)\n",
      "print test_array.shape\n",
      "print test_array"
     ],
     "language": "python",
     "metadata": {},
     "outputs": [
      {
       "output_type": "stream",
       "stream": "stdout",
       "text": [
        "(1520, 3)\n",
        "(760, 2, 3)\n",
        "[[[   45.816225  -596.57111    -25.809904]\n",
        "  [   46.385489 -1111.361468   -27.719261]]\n",
        "\n",
        " [[   51.098207  -956.64657    -31.556037]\n",
        "  [   48.545577 -1128.598519   -25.36088 ]]\n",
        "\n",
        " [[   45.476121 -1295.830204   -16.917312]\n",
        "  [   44.387561  -840.156527   -30.596965]]\n",
        "\n",
        " ..., \n",
        " [[   62.657516 -1341.035312   -40.618026]\n",
        "  [   33.370955 -1183.314759   -25.279557]]\n",
        "\n",
        " [[   49.141388  -867.140536   -36.257011]\n",
        "  [   50.376636 -1223.887096   -58.841524]]\n",
        "\n",
        " [[   48.2473    -436.6805     -29.816684]\n",
        "  [    3.442754 -1160.252644    83.948088]]]\n"
       ]
      }
     ],
     "prompt_number": 162
    },
    {
     "cell_type": "code",
     "collapsed": false,
     "input": [
      "np.savetxt('test_files/test_out.txt', n, fmt='%4.7f') #cambiar formato para ver distintos tipos de output"
     ],
     "language": "python",
     "metadata": {},
     "outputs": [],
     "prompt_number": 163
    }
   ],
   "metadata": {}
  }
 ]
}