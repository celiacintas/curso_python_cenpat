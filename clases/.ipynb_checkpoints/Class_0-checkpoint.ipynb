{
 "metadata": {
  "name": ""
 },
 "nbformat": 3,
 "nbformat_minor": 0,
 "worksheets": [
  {
   "cells": [
    {
     "cell_type": "heading",
     "level": 1,
     "metadata": {},
     "source": [
      "C\u00f3mo instalar Python?"
     ]
    },
    {
     "cell_type": "markdown",
     "metadata": {},
     "source": [
      "- **GNU/LINUX**\n",
      "\n",
      "    - ubuntu/debian\n",
      "\\# apt-get install python-scipy python-matplotlib python-numpy python-qt4 python-pygments\n",
      "    - archlinux\n",
      "\\# pacman -S python2-scipy ....\n",
      "\n",
      "\\# pip install pandas scikit-learn scikit-image statsmodels ipython\n",
      "\n",
      "- **MAC OS**\n",
      "\n",
      "\n",
      "    - [SciPy SuperPack](http://fonnesbeck.github.io/ScipySuperpack/)\n",
      "\n",
      "- **Distribuciones Cinet\u00edficas de Python Multiplataforma** \n",
      "\n",
      "\n",
      "    - [Python(X,Y)](http://code.google.com/p/pythonxy/)\n",
      "    - [Canopy](https://www.enthought.com/products/canopy/)\n",
      "    - [Anaconda](https://store.continuum.io/cshop/anaconda/)"
     ]
    },
    {
     "cell_type": "code",
     "collapsed": false,
     "input": [
      "from IPython.display import IFrame\n",
      "IFrame('http://continuum.io/downloads', width=1000, height=350)"
     ],
     "language": "python",
     "metadata": {},
     "outputs": []
    },
    {
     "cell_type": "heading",
     "level": 1,
     "metadata": {},
     "source": [
      "Conociendo IPython"
     ]
    },
    {
     "cell_type": "markdown",
     "metadata": {},
     "source": [
      "##Si queremos informaci\u00f3n de un m\u00f3dulo o funci\u00f3n"
     ]
    },
    {
     "cell_type": "code",
     "collapsed": false,
     "input": [
      "import numpy as np\n",
      "np?\n",
      "#np.reshape?"
     ],
     "language": "python",
     "metadata": {},
     "outputs": []
    },
    {
     "cell_type": "markdown",
     "metadata": {},
     "source": [
      "## Auto completado"
     ]
    },
    {
     "cell_type": "code",
     "collapsed": false,
     "input": [
      "np."
     ],
     "language": "python",
     "metadata": {},
     "outputs": []
    },
    {
     "cell_type": "markdown",
     "metadata": {},
     "source": [
      "## Historial"
     ]
    },
    {
     "cell_type": "code",
     "collapsed": false,
     "input": [
      "12*2"
     ],
     "language": "python",
     "metadata": {},
     "outputs": []
    },
    {
     "cell_type": "code",
     "collapsed": false,
     "input": [
      "_ + 123"
     ],
     "language": "python",
     "metadata": {},
     "outputs": []
    },
    {
     "cell_type": "code",
     "collapsed": false,
     "input": [
      "# completar con valor actual _"
     ],
     "language": "python",
     "metadata": {},
     "outputs": []
    },
    {
     "cell_type": "markdown",
     "metadata": {},
     "source": [
      "## Guardar y cargar sesiones en IPython"
     ]
    },
    {
     "cell_type": "code",
     "collapsed": false,
     "input": [
      "import numpy as np\n",
      "x = np.array([[1,2,3],[4,5,6]])\n",
      "print np.transpose(x)\n"
     ],
     "language": "python",
     "metadata": {},
     "outputs": []
    },
    {
     "cell_type": "code",
     "collapsed": false,
     "input": [
      "%save test_files/ex_1.py # colocar nro de linea 1"
     ],
     "language": "python",
     "metadata": {},
     "outputs": []
    },
    {
     "cell_type": "code",
     "collapsed": false,
     "input": [
      "%load test_files/ex_1.py"
     ],
     "language": "python",
     "metadata": {},
     "outputs": []
    },
    {
     "cell_type": "code",
     "collapsed": false,
     "input": [
      "%run test_files/ex_1.py"
     ],
     "language": "python",
     "metadata": {},
     "outputs": []
    },
    {
     "cell_type": "markdown",
     "metadata": {},
     "source": [
      "## Qu\u00e9 hay en nuestras carpetas y archivos?"
     ]
    },
    {
     "cell_type": "markdown",
     "metadata": {},
     "source": [
      "### Listando directorios"
     ]
    },
    {
     "cell_type": "code",
     "collapsed": false,
     "input": [
      "ls "
     ],
     "language": "python",
     "metadata": {},
     "outputs": []
    },
    {
     "cell_type": "code",
     "collapsed": false,
     "input": [
      "ls data/"
     ],
     "language": "python",
     "metadata": {},
     "outputs": []
    },
    {
     "cell_type": "markdown",
     "metadata": {},
     "source": [
      "### D\u00f3nde estamos trabajando ?"
     ]
    },
    {
     "cell_type": "code",
     "collapsed": false,
     "input": [
      "pwd"
     ],
     "language": "python",
     "metadata": {},
     "outputs": []
    },
    {
     "cell_type": "markdown",
     "metadata": {},
     "source": [
      "### Cambio de directorio de trabajo"
     ]
    },
    {
     "cell_type": "code",
     "collapsed": false,
     "input": [
      "cd data/"
     ],
     "language": "python",
     "metadata": {},
     "outputs": []
    },
    {
     "cell_type": "markdown",
     "metadata": {},
     "source": [
      "### Qu\u00e9 contienen nuestros archivos ? "
     ]
    },
    {
     "cell_type": "code",
     "collapsed": false,
     "input": [
      "more data/all_test.txt\n"
     ],
     "language": "python",
     "metadata": {},
     "outputs": []
    }
   ],
   "metadata": {}
  }
 ]
}